{
 "cells": [
  {
   "cell_type": "markdown",
   "id": "together-logging",
   "metadata": {},
   "source": [
    "# Implementation"
   ]
  },
  {
   "cell_type": "markdown",
   "id": "literary-anaheim",
   "metadata": {},
   "source": [
    "In this part, we will implement our own basic neural network layers"
   ]
  },
  {
   "cell_type": "markdown",
   "id": "complicated-steering",
   "metadata": {},
   "source": [
    "## Linear layer"
   ]
  },
  {
   "cell_type": "markdown",
   "id": "hybrid-repository",
   "metadata": {},
   "source": [
    "## Convolutional layer"
   ]
  },
  {
   "cell_type": "markdown",
   "id": "everyday-oxygen",
   "metadata": {},
   "source": [
    "## And some non linear functions..."
   ]
  },
  {
   "cell_type": "markdown",
   "id": "driving-recall",
   "metadata": {},
   "source": [
    "## Tying it all together"
   ]
  }
 ],
 "metadata": {
  "kernelspec": {
   "display_name": "cnn",
   "language": "python",
   "name": "cnn"
  },
  "language_info": {
   "codemirror_mode": {
    "name": "ipython",
    "version": 3
   },
   "file_extension": ".py",
   "mimetype": "text/x-python",
   "name": "python",
   "nbconvert_exporter": "python",
   "pygments_lexer": "ipython3",
   "version": "3.8.5"
  }
 },
 "nbformat": 4,
 "nbformat_minor": 5
}
